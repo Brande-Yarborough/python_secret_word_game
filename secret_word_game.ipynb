{
 "cells": [
  {
   "cell_type": "code",
   "execution_count": null,
   "id": "f8549437",
   "metadata": {},
   "outputs": [
    {
     "name": "stdout",
     "output_type": "stream",
     "text": [
      "Let's play Hangman!\n"
     ]
    }
   ],
   "source": [
    "import random\n",
    "\n",
    "print(\"Let's play Hangman!\")\n",
    "\n",
    "words = [\"javascript\", \"html\", \"css\", \"bootstrap\", \"react\", \"python\"]\n",
    "secretWord = random.choice(words)\n",
    "lettersGuessed = \"\"\n",
    "# number of guesses before player loses\n",
    "guesses = 6\n",
    "\n",
    "# loop until player has made too many failed attempts\n",
    "# will break loop if they succeed instead\n",
    "while guesses > 0:\n",
    "\n",
    "    guess = input(\"Enter a letter: \")\n",
    "\n",
    "    if guess in secretWord:\n",
    "        print(f\"Correct! There is one or more {guess}'s in the word.\")\n",
    "    else:\n",
    "        guesses -= 1\n",
    "        print(\n",
    "            f\"Wrong guess! There are no {guess}'s in the word. {guesses} attempt(s) left.\")\n",
    "\n",
    "    # maintain list of all letters guessed\n",
    "    lettersGuessed = lettersGuessed + guess\n",
    "    wrongLetterCount = 0\n",
    "\n",
    "    # iterate through each letter in secret word\n",
    "    for letter in secretWord:\n",
    "        if letter in lettersGuessed:\n",
    "            print(f\"{letter}\", end=\"\")\n",
    "        else:\n",
    "            print(\"_\", end=\"\")\n",
    "            # increment wrong letter count by 1 each time guessed wrong\n",
    "            wrongLetterCount += 1\n",
    "    # space out print statement so enter a letter is on next line\n",
    "    print(\"\")\n",
    "\n",
    "    if wrongLetterCount == 0:\n",
    "        print(f\"Congratulations, You Win! :) The word was: {secretWord}.\")\n",
    "        break\n",
    "\n",
    "else:\n",
    "    print(\"Sorry, you did not win. Try again. :(\")\n"
   ]
  },
  {
   "cell_type": "code",
   "execution_count": null,
   "id": "afbec238",
   "metadata": {},
   "outputs": [],
   "source": []
  }
 ],
 "metadata": {
  "kernelspec": {
   "display_name": "Python 3 (ipykernel)",
   "language": "python",
   "name": "python3"
  },
  "language_info": {
   "codemirror_mode": {
    "name": "ipython",
    "version": 3
   },
   "file_extension": ".py",
   "mimetype": "text/x-python",
   "name": "python",
   "nbconvert_exporter": "python",
   "pygments_lexer": "ipython3",
   "version": "3.9.6"
  }
 },
 "nbformat": 4,
 "nbformat_minor": 5
}
